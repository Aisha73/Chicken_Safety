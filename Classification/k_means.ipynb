{
  "nbformat": 4,
  "nbformat_minor": 0,
  "metadata": {
    "colab": {
      "name": "k_means.ipynb",
      "provenance": [],
      "collapsed_sections": []
    },
    "kernelspec": {
      "name": "python3",
      "display_name": "Python 3"
    },
    "language_info": {
      "name": "python"
    }
  },
  "cells": [
    {
      "cell_type": "markdown",
      "source": [
        "# Mount Google Drive"
      ],
      "metadata": {
        "id": "vy9JOhgji6yg"
      }
    },
    {
      "cell_type": "code",
      "execution_count": null,
      "metadata": {
        "id": "HNbSwocYiS7d"
      },
      "outputs": [],
      "source": [
        "from google.colab import drive\n",
        "drive.mount('/content/drive')"
      ]
    },
    {
      "cell_type": "code",
      "source": [
        "%cd /content"
      ],
      "metadata": {
        "id": "2XROkncxidhE"
      },
      "execution_count": null,
      "outputs": []
    },
    {
      "cell_type": "markdown",
      "source": [
        "# Import packages"
      ],
      "metadata": {
        "id": "eTU4owuHi-yh"
      }
    },
    {
      "cell_type": "code",
      "source": [
        "from sklearn.cluster import KMeans\n",
        "import pandas as pd\n",
        "from sklearn.preprocessing import MinMaxScaler\n",
        "from matplotlib import pyplot as plt\n",
        "%matplotlib inline"
      ],
      "metadata": {
        "id": "0NWabvlcifl0"
      },
      "execution_count": null,
      "outputs": []
    },
    {
      "cell_type": "markdown",
      "source": [
        "# Upload data"
      ],
      "metadata": {
        "id": "sBY1BUEwjBOs"
      }
    },
    {
      "cell_type": "code",
      "source": [
        "df = pd.read_csv(\"/content/drive/MyDrive/relativity.csv\")\n",
        "df.head()"
      ],
      "metadata": {
        "id": "QmMz2A0Fip2t"
      },
      "execution_count": null,
      "outputs": []
    },
    {
      "cell_type": "code",
      "source": [
        "plt.scatter(df.Xr,df['Yr'])\n",
        "plt.xlim(0, 1.6)\n",
        "plt.ylim(0, 0.8)\n",
        "plt.xlabel('Xr')\n",
        "plt.ylabel('Yr')"
      ],
      "metadata": {
        "id": "xlyZwwn1isAZ"
      },
      "execution_count": null,
      "outputs": []
    },
    {
      "cell_type": "markdown",
      "source": [
        "# K-means clustering model"
      ],
      "metadata": {
        "id": "R6NClccvjFDn"
      }
    },
    {
      "cell_type": "code",
      "source": [
        "km = KMeans(n_clusters=2)\n",
        "y_predicted = km.fit_predict(df[['Xr','Yr']])\n",
        "y_predicted"
      ],
      "metadata": {
        "id": "bi6iw4sQiua1"
      },
      "execution_count": null,
      "outputs": []
    },
    {
      "cell_type": "code",
      "source": [
        "df['cluster']=y_predicted\n",
        "df.head()"
      ],
      "metadata": {
        "id": "Bx3ab0iWiwZe"
      },
      "execution_count": null,
      "outputs": []
    },
    {
      "cell_type": "code",
      "source": [
        "km.cluster_centers_"
      ],
      "metadata": {
        "id": "hD3Kgs90iy51"
      },
      "execution_count": null,
      "outputs": []
    },
    {
      "cell_type": "markdown",
      "source": [
        "## Plot k-means output"
      ],
      "metadata": {
        "id": "D_gM-N16jLdg"
      }
    },
    {
      "cell_type": "code",
      "source": [
        "df1 = df[df.cluster==0]\n",
        "df2 = df[df.cluster==1]\n",
        "#df3 = df[df.cluster==2]\n",
        "plt.scatter(df1.Xr,df1['Yr'],color='green', marker='^')\n",
        "plt.scatter(df2.Xr,df2['Yr'],color='purple', marker=',')\n",
        "#plt.scatter(df3.Age,df3['Income($)'],color='black')\n",
        "plt.scatter(km.cluster_centers_[:,0],km.cluster_centers_[:,1],s=30,color='red',marker='*',label='centroid')\n",
        "plt.xlim(0, 1.6)\n",
        "plt.ylim(0, 0.8)\n",
        "plt.xlabel('x-Relative Distance')\n",
        "plt.ylabel('y-Relative Distance')\n",
        "plt.legend(loc='best')"
      ],
      "metadata": {
        "id": "a1Yx6auii2Et"
      },
      "execution_count": null,
      "outputs": []
    },
    {
      "cell_type": "markdown",
      "source": [
        "## Elbow plot"
      ],
      "metadata": {
        "id": "kX_NutFhjQIm"
      }
    },
    {
      "cell_type": "code",
      "source": [
        "sse = []\n",
        "k_rng = range(1,10)\n",
        "for k in k_rng:\n",
        "    km = KMeans(n_clusters=k)\n",
        "    km.fit(df[['Xr','Yr']])\n",
        "    sse.append(km.inertia_)\n",
        "\n",
        "plt.xlabel('K')\n",
        "plt.ylabel('Sum of squared error')\n",
        "plt.plot(k_rng,sse)"
      ],
      "metadata": {
        "id": "J75eZoBNi5iu"
      },
      "execution_count": null,
      "outputs": []
    }
  ]
}