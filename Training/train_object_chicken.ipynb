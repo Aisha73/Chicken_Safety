{
  "nbformat": 4,
  "nbformat_minor": 0,
  "metadata": {
    "colab": {
      "name": "train_object_chicken.ipynb",
      "provenance": [],
      "collapsed_sections": []
    },
    "kernelspec": {
      "name": "python3",
      "display_name": "Python 3"
    },
    "language_info": {
      "name": "python"
    }
  },
  "cells": [
    {
      "cell_type": "markdown",
      "source": [
        "# Clone repository"
      ],
      "metadata": {
        "id": "MgxmQXPcMmPS"
      }
    },
    {
      "cell_type": "code",
      "execution_count": null,
      "metadata": {
        "id": "cSYewme-MgCj"
      },
      "outputs": [],
      "source": [
        "!git clone https://github.com/Aisha73/Chicken_safety.git"
      ]
    },
    {
      "cell_type": "markdown",
      "source": [
        "# Mount Google Drive where dataset is stored"
      ],
      "metadata": {
        "id": "hEfQ5eP3M0gX"
      }
    },
    {
      "cell_type": "code",
      "source": [
        "from google.colab import drive\n",
        "drive.mount('/content/drive')"
      ],
      "metadata": {
        "id": "fmoIOFsZM5uF"
      },
      "execution_count": null,
      "outputs": []
    },
    {
      "cell_type": "code",
      "source": [
        "%cd /content/"
      ],
      "metadata": {
        "id": "a3hlqjZVM8KC"
      },
      "execution_count": null,
      "outputs": []
    },
    {
      "cell_type": "markdown",
      "source": [
        "# Install compatible version of packages"
      ],
      "metadata": {
        "id": "5jbm1ud7M_MA"
      }
    },
    {
      "cell_type": "code",
      "source": [
        "!pip uninstall keras -y\n",
        "!pip uninstall keras-nightly -y\n",
        "!pip uninstall keras-Preprocessing -y\n",
        "!pip uninstall keras-vis -y\n",
        "!pip uninstall tensorflow -y\n",
        "!pip uninstall h5py -y\n",
        "\n",
        "!pip install tensorflow==1.13.1\n",
        "!pip install keras==2.0.8\n",
        "!pip install h5py==2.10.0"
      ],
      "metadata": {
        "id": "C721WPYZNDS-"
      },
      "execution_count": null,
      "outputs": []
    },
    {
      "cell_type": "markdown",
      "source": [
        "# Mask R-CNN - Train on dataset"
      ],
      "metadata": {
        "id": "fzjtlhd3NHKP"
      }
    },
    {
      "cell_type": "code",
      "source": [
        "import os\n",
        "import sys\n",
        "import random\n",
        "import math\n",
        "import re\n",
        "import time\n",
        "import numpy as np\n",
        "import cv2\n",
        "import matplotlib\n",
        "import matplotlib.pyplot as plt\n",
        "import skimage\n",
        "import itertools\n",
        "import logging\n",
        "import json\n",
        "import re\n",
        "import random\n",
        "from collections import OrderedDict\n",
        "import matplotlib\n",
        "import matplotlib.pyplot as plt\n",
        "import matplotlib.patches as patches\n",
        "import matplotlib.lines as lines\n",
        "import matplotlib.image as mpimg\n",
        "from matplotlib.patches import Polygon\n",
        "\n",
        "# Root directory of the project\n",
        "ROOT_DIR = os.path.abspath(\"./../\")\n",
        "print(os.listdir(ROOT_DIR))\n",
        "# Import Mask RCNN\n",
        "sys.path.append(ROOT_DIR)  # To find local version of the library\n",
        "from mrcnn.config import Config\n",
        "from mrcnn import utils\n",
        "import mrcnn.model as modellib\n",
        "from mrcnn import visualize\n",
        "from mrcnn.model import log\n",
        "\n",
        "%matplotlib inline \n",
        "\n",
        "# Directory to save logs and trained model\n",
        "MODEL_DIR = os.path.join(ROOT_DIR, \"Logs\") \n",
        "\n",
        "# Local path to trained weights file\n",
        "COCO_MODEL_PATH = os.path.join(ROOT_DIR, \"mask_rcnn_coco.h5\")\n",
        "# Download COCO trained weights from Releases if needed\n",
        "if not os.path.exists(COCO_MODEL_PATH):\n",
        "    utils.download_trained_weights(COCO_MODEL_PATH)"
      ],
      "metadata": {
        "id": "v0aXCufFNQtk"
      },
      "execution_count": null,
      "outputs": []
    },
    {
      "cell_type": "markdown",
      "source": [
        "## Configurations"
      ],
      "metadata": {
        "id": "JthQX2HiNXDL"
      }
    },
    {
      "cell_type": "code",
      "source": [
        "class ObjectConfig(Config): \n",
        "    \"\"\"Configuration for training on the toy  dataset.\n",
        "    Derives from the base Config class and overrides some values.\n",
        "    \"\"\"\n",
        "    # Give the configuration a recognizable name\n",
        "    NAME = \"object\"\n",
        "\n",
        "    # We use a GPU with 12GB memory, which can fit two images.\n",
        "    # Adjust down if you use a smaller GPU.\n",
        "    IMAGES_PER_GPU = 1\n",
        "\n",
        "    # Number of classes (including background)\n",
        "    NUM_CLASSES = 1 + 5  # Background + head + neck + body + tail + leg \n",
        " \n",
        "    # Number of training steps per epoch\n",
        "    STEPS_PER_EPOCH = 100\n",
        "\n",
        "    # Skip detections with < 99% confidence\n",
        "    DETECTION_MIN_CONFIDENCE = 0.99\n",
        "    \n",
        "config = ObjectConfig()\n",
        "config.display()"
      ],
      "metadata": {
        "id": "P3Er0G56NaiQ"
      },
      "execution_count": null,
      "outputs": []
    },
    {
      "cell_type": "markdown",
      "source": [
        "## Notebook Preferences"
      ],
      "metadata": {
        "id": "-4fHHRwBNhvp"
      }
    },
    {
      "cell_type": "code",
      "source": [
        "def get_ax(rows=1, cols=1, size=8):\n",
        "    \"\"\"Return a Matplotlib Axes array to be used in\n",
        "    all visualizations in the notebook. Provide a\n",
        "    central point to control graph sizes.\n",
        "    \n",
        "    Change the default size attribute to control the size\n",
        "    of rendered images\n",
        "    \"\"\"\n",
        "    _, ax = plt.subplots(rows, cols, figsize=(size*cols, size*rows))\n",
        "    return ax"
      ],
      "metadata": {
        "id": "HTa1CEnuNire"
      },
      "execution_count": null,
      "outputs": []
    },
    {
      "cell_type": "markdown",
      "source": [
        "## Dataset"
      ],
      "metadata": {
        "id": "ROj5KW-1Nlax"
      }
    },
    {
      "cell_type": "code",
      "source": [
        "class ObjectDataset(utils.Dataset): \n",
        "\n",
        "    def load_object(self, dataset_dir, subset): #\n",
        "        \"\"\"Load a subset of the Balloon dataset.\n",
        "        dataset_dir: Root directory of the dataset.\n",
        "        subset: Subset to load: train or val\n",
        "        \"\"\"\n",
        "        # Add classes. We have only one class to add.\n",
        "        self.add_class(\"object\", 1, \"head\")\n",
        "        self.add_class(\"object\", 2, \"neck\")\n",
        "        self.add_class(\"object\", 3, \"body\")\n",
        "        self.add_class(\"object\", 4, \"tail\")\n",
        "        self.add_class(\"object\", 5, \"leg\")  \n",
        "\n",
        "        # Train or validation dataset?\n",
        "        assert subset in [\"train\", \"val\"]\n",
        "        dataset_dir = os.path.join(dataset_dir, subset)\n",
        "\n",
        "        # Load annotations\n",
        "        # VGG Image Annotator (up to version 1.6) saves each image in the form:\n",
        "        # { 'filename': '28503151_5b5b7ec140_b.jpg',\n",
        "        #   'regions': {\n",
        "        #       '0': {\n",
        "        #           'region_attributes': {},\n",
        "        #           'shape_attributes': {\n",
        "        #               'all_points_x': [...],\n",
        "        #               'all_points_y': [...],\n",
        "        #               'name': 'polygon'}},\n",
        "        #       ... more regions ...\n",
        "        #   },\n",
        "        #   'size': 100202\n",
        "        # }\n",
        "        # We mostly care about the x and y coordinates of each region\n",
        "        # Note: In VIA 2.0, regions was changed from a dict to a list.\n",
        "        annotations = json.load(open(os.path.join(dataset_dir, \"via_region_data.json\")))\n",
        "        annotations = list(annotations.values())  # don't need the dict keys\n",
        "\n",
        "        # The VIA tool saves images in the JSON even if they don't have any\n",
        "        # annotations. Skip unannotated images.\n",
        "        annotations = [a for a in annotations if a['regions']]\n",
        "\n",
        "        # Add images\n",
        "        for a in annotations:\n",
        "            # Get the x, y coordinaets of points of the polygons that make up\n",
        "            # the outline of each object instance. These are stores in the\n",
        "            # shape_attributes (see json format above)\n",
        "            # The if condition is needed to support VIA versions 1.x and 2.x.\n",
        "            if type(a['regions']) is dict:\n",
        "                polygons = [r['shape_attributes'] for r in a['regions'].values()]\n",
        "            else:\n",
        "                polygons = [r['shape_attributes'] for r in a['regions']]\n",
        "            \n",
        "            #polygons = [r['shape_attributes'] for r in a['regions'].values()]\n",
        "            #if type(a['regions']) is dict:\n",
        "             #   objects = [s['region_attributes'] ['names'] for s in a['regions'].values()]\n",
        "            #else:\n",
        "                 #objects = [s['region_attributes'] ['names'] for s in a['regions']]\n",
        "            objects = [s['region_attributes'] ['names'] for s in a['regions']] # Either use this or the IF Statement above\n",
        "            \n",
        "##\n",
        "            #objects = [s['region_attributes']['names'] for s in a['regions']]\n",
        "            #num_ids = [int(n['object']) for n in objects]\n",
        "            #print(\"objects:\",objects)\n",
        "            name_dict = {\"head\" : 1,\"neck\": 2, \"body\": 3, \"tail\": 4, \"leg\": 5}\n",
        "\n",
        "            #key = tuple(name_dict)\n",
        "            class_ids = [name_dict[a] for a in objects] \n",
        "\n",
        "            # load_mask() needs the image size to convert polygons to masks.\n",
        "            # Unfortunately, VIA doesn't include it in JSON, so we must read\n",
        "            # the image. This is only managable since the dataset is tiny.\n",
        "            image_path = os.path.join(dataset_dir, a['filename'])\n",
        "            image = skimage.io.imread(image_path)\n",
        "            height, width = image.shape[:2]\n",
        "\n",
        "            self.add_image(\n",
        "                \"object\",\n",
        "                image_id=a['filename'],  # use file name as a unique image id\n",
        "                path=image_path,\n",
        "                width=width, \n",
        "                height=height,\n",
        "                polygons=polygons,\n",
        "                class_ids=class_ids)\n",
        "\n",
        "    def load_mask(self, image_id):\n",
        "        \"\"\"Generate instance masks for an image.\n",
        "       Returns:\n",
        "        masks: A bool array of shape [height, width, instance count] with\n",
        "            one mask per instance.\n",
        "        class_ids: a 1D array of class IDs of the instance masks.\n",
        "        \"\"\"\n",
        "        # If not a balloon dataset image, delegate to parent class.\n",
        "        image_info = self.image_info[image_id]\n",
        "        info = self.image_info[image_id]\n",
        "        if image_info[\"source\"] != \"object\":\n",
        "            return super(self.__class__, self).load_mask(image_id)\n",
        "        class_ids = info['class_ids']\n",
        "\n",
        "        # Convert polygons to a bitmap mask of shape\n",
        "        # [height, width, instance_count]\n",
        "        \n",
        "        mask = np.zeros([info[\"height\"], info[\"width\"], len(info[\"polygons\"])],\n",
        "                        dtype=np.uint8)\n",
        "        for i, p in enumerate(info[\"polygons\"]):\n",
        "            # Get indexes of pixels inside the polygon and set them to 1\n",
        "            rr, cc = skimage.draw.polygon(p['all_points_y'], p['all_points_x'])\n",
        "            mask[rr, cc, i] = 1\n",
        "\n",
        "        class_ids = np.array(class_ids, dtype=np.int32)\n",
        "        return mask, class_ids\n",
        "\n",
        "    def image_reference(self, image_id):\n",
        "        \"\"\"Return the path of the image.\"\"\"\n",
        "        info = self.image_info[image_id]\n",
        "        if info[\"source\"] == \"object\":\n",
        "            return info[\"path\"]\n",
        "        else:\n",
        "            super(self.__class__, self).image_reference(image_id)"
      ],
      "metadata": {
        "id": "f7EdNdCGNwCH"
      },
      "execution_count": null,
      "outputs": []
    },
    {
      "cell_type": "markdown",
      "source": [
        "# Load datasets\n",
        "dataset_dir should be the path of the dataset in the drive\n",
        "\n",
        "In this case it was created using  VGG Image Annotator (up to version 1.6) \n",
        "\n",
        "It saves each image in the form:\n",
        "        # { 'filename': '28503151_5b5b7ec140_b.jpg',\n",
        "        #   'regions': {\n",
        "        #       '0': {\n",
        "        #           'region_attributes': {},\n",
        "        #           'shape_attributes': {\n",
        "        #               'all_points_x': [...],\n",
        "        #               'all_points_y': [...],\n",
        "        #               'name': 'polygon'}},\n",
        "        #       ... more regions ...\n",
        "        #   },\n",
        "        #   'size': 100202\n",
        "        # }\n",
        "        # We mostly care about the x and y coordinates of each region\n",
        "\n",
        "The dataset dir should contains 2 subfolder named ```train``` and ```val``` with the training and the validation data. \n",
        "\n",
        "In each of this subfolder, a file named ```via_region_data.json```\n",
        "\n",
        "Of course you can make your own dataset class for your own dataset. "
      ],
      "metadata": {
        "id": "B4oVASv2OGoN"
      }
    },
    {
      "cell_type": "code",
      "source": [
        "dataset_dir = '../drive/My Drive/Real_dataset' \n",
        "# Training dataset.\n",
        "dataset_train = ObjectDataset()\n",
        "dataset_train.load_object(dataset_dir, \"train\")\n",
        "dataset_train.prepare()\n",
        "\n",
        "# Validation dataset\n",
        "dataset_val = ObjectDataset()\n",
        "dataset_val.load_object(dataset_dir, \"val\")\n",
        "dataset_val.prepare()"
      ],
      "metadata": {
        "id": "QH8DfVT_ONHt"
      },
      "execution_count": null,
      "outputs": []
    },
    {
      "cell_type": "code",
      "source": [
        "# Load and display random samples\n",
        "image_ids = np.random.choice(dataset_train.image_ids, 5)\n",
        "for image_id in image_ids:\n",
        "    image = dataset_train.load_image(image_id)\n",
        "    mask, class_ids = dataset_train.load_mask(image_id)\n",
        "\n",
        "    #print(mask, \"and\", class_ids)\n",
        "\n",
        "    visualize.display_top_masks(image, mask, class_ids, dataset_train.class_names)"
      ],
      "metadata": {
        "id": "qubCbhhTOR7r"
      },
      "execution_count": null,
      "outputs": []
    },
    {
      "cell_type": "markdown",
      "source": [
        "## Create Model"
      ],
      "metadata": {
        "id": "Adi-QxeqOZUF"
      }
    },
    {
      "cell_type": "code",
      "source": [
        "# Create model in training mode\n",
        "model = modellib.MaskRCNN(mode=\"training\", config=config,\n",
        "                          model_dir=MODEL_DIR)"
      ],
      "metadata": {
        "id": "TdiWwwB8OVzo"
      },
      "execution_count": null,
      "outputs": []
    },
    {
      "cell_type": "code",
      "source": [
        "# Load weights trained on MS COCO, but skip layers that\n",
        "# are different due to the different number of classes\n",
        "# See README for instructions to download the COCO weights\n",
        "init_with = \"coco\"\n",
        "\n",
        "if init_with == \"coco\":\n",
        "  model.load_weights(COCO_MODEL_PATH, by_name=True, exclude=[\"mrcnn_class_logits\", \"mrcnn_bbox_fc\", \"mrcnn_bbox\", \"mrcnn_mask\"])\n",
        "elif init_with == \"last\":\n",
        "    # Load the last model you trained and continue training\n",
        "    model.load_weights(model.find_last(), by_name=True)"
      ],
      "metadata": {
        "id": "xVOAdLiMOe76"
      },
      "execution_count": null,
      "outputs": []
    },
    {
      "cell_type": "markdown",
      "source": [
        "## Training"
      ],
      "metadata": {
        "id": "MIWwhQnxOkMp"
      }
    },
    {
      "cell_type": "code",
      "source": [
        "# Train the head branches\n",
        "# Passing layers=\"heads\" freezes all layers except the head\n",
        "# layers. You can also pass a regular expression to select\n",
        "# which layers to train by name pattern.\n",
        "model.train(dataset_train, dataset_val, \n",
        "            learning_rate=config.LEARNING_RATE, \n",
        "            epochs=1, \n",
        "            layers='heads')"
      ],
      "metadata": {
        "id": "L7QAMKlvOlCy"
      },
      "execution_count": null,
      "outputs": []
    },
    {
      "cell_type": "code",
      "source": [
        "# Fine tune all layers\n",
        "# Passing layers=\"all\" trains all layers. You can also \n",
        "# pass a regular expression to select which layers to\n",
        "# train by name pattern.\n",
        "model.train(dataset_train, dataset_val, \n",
        "            learning_rate=config.LEARNING_RATE / 10,\n",
        "            epochs=2, \n",
        "            layers=\"all\")"
      ],
      "metadata": {
        "id": "KAF2MPskOoPh"
      },
      "execution_count": null,
      "outputs": []
    },
    {
      "cell_type": "markdown",
      "source": [
        "# Save weights"
      ],
      "metadata": {
        "id": "gYbC0-CrOxX8"
      }
    },
    {
      "cell_type": "code",
      "source": [
        "# Save weights\n",
        "# Typically not needed because callbacks save after every epoch\n",
        "# Uncomment to save manually\n",
        "#print(MODEL_DIR)\n",
        "#print(os.listdir(MODEL_DIR))\n",
        "#model_path = os.path.join(MODEL_DIR, \"mask_rcnn_object.h5\")\n",
        "#model.keras_model.save_weights(model_path)\n"
      ],
      "metadata": {
        "id": "4tapUvR6Ox6z"
      },
      "execution_count": null,
      "outputs": []
    },
    {
      "cell_type": "code",
      "source": [
        "# uncomment this to save the weights in your drive\n",
        "#this one takes quite a long time\n",
        "#MODEL_DIR_drive = '/content/drive/MyDrive'\n",
        "#model_path = os.path.join(MODEL_DIR_drive, \"mask_rcnn_object.h5\")\n",
        "#model.keras_model.save_weights(model_path)"
      ],
      "metadata": {
        "id": "ShFeAEJ1O0tO"
      },
      "execution_count": null,
      "outputs": []
    },
    {
      "cell_type": "markdown",
      "source": [
        "# Loading saved weights"
      ],
      "metadata": {
        "id": "BAm33_nQO4YO"
      }
    },
    {
      "cell_type": "code",
      "source": [
        "#MODEL_DIR_drive = '../drive/My Drive'\n",
        "#model_path = os.path.join(MODEL_DIR_drive, \"mask_rcnn_object.h5\")\n",
        "#model.keras_model.load_weights(model_path)\n",
        "#old_model =model.load_weights('mask_rcnn_object.h5')"
      ],
      "metadata": {
        "id": "EVSRHF4yO9LU"
      },
      "execution_count": null,
      "outputs": []
    },
    {
      "cell_type": "markdown",
      "source": [
        "## Detection"
      ],
      "metadata": {
        "id": "4sHgB3HrPG1B"
      }
    },
    {
      "cell_type": "code",
      "source": [
        "class InferenceConfig(ObjectConfig):\n",
        "    GPU_COUNT = 1\n",
        "    IMAGES_PER_GPU = 1\n",
        "\n",
        "inference_config = InferenceConfig()\n",
        "\n",
        "# Recreate the model in inference mode\n",
        "model = modellib.MaskRCNN(mode=\"inference\", \n",
        "                          config=inference_config,\n",
        "                          model_dir=MODEL_DIR)\n",
        "\n",
        "# Get path to saved weights\n",
        "# Either set a specific path or find last trained weights\n",
        "MODEL_DIR_drive = '/content/drive/MyDrive'\n",
        "model_path = os.path.join(MODEL_DIR_drive, \"mask_rcnn_object.h5\")\n",
        "#model_path = model.find_last() ##USE WHEN TRAINING REAL DATASET\n",
        "\n",
        "# Load trained weights\n",
        "print(\"Loading weights from \", model_path)\n",
        "model.load_weights(model_path, by_name=True)"
      ],
      "metadata": {
        "id": "-qK3xgbDPHhl"
      },
      "execution_count": null,
      "outputs": []
    },
    {
      "cell_type": "markdown",
      "source": [
        "# Testing on a random image"
      ],
      "metadata": {
        "id": "6BRJ0c98PVPk"
      }
    },
    {
      "cell_type": "code",
      "source": [
        "image_id = random.choice(dataset_val.image_ids)\n",
        "original_image, image_meta, gt_class_id, gt_bbox, gt_mask =\\\n",
        "    modellib.load_image_gt(dataset_val, inference_config, \n",
        "                           image_id, use_mini_mask=False)\n",
        "\n",
        "log(\"original_image\", original_image)\n",
        "log(\"image_meta\", image_meta)\n",
        "log(\"gt_class_id\", gt_class_id)\n",
        "log(\"gt_bbox\", gt_bbox)\n",
        "log(\"gt_mask\", gt_mask)\n",
        "\n",
        "visualize.display_instances(original_image, gt_bbox, gt_mask, gt_class_id, \n",
        "                            dataset_train.class_names, figsize=(8, 8))"
      ],
      "metadata": {
        "id": "4cvGhb4FPSc7"
      },
      "execution_count": null,
      "outputs": []
    },
    {
      "cell_type": "code",
      "source": [
        "results = model.detect([original_image], verbose=1)\n",
        "\n",
        "r = results[0]\n",
        "visualize.display_instances(original_image, r['rois'], r['masks'], r['class_ids'], \n",
        "                            dataset_val.class_names, r['scores'], ax=get_ax())"
      ],
      "metadata": {
        "id": "eCteujHtPip6"
      },
      "execution_count": null,
      "outputs": []
    },
    {
      "cell_type": "code",
      "source": [
        "results = model.detect([original_image], verbose=0)\n",
        "r = results[0]\n",
        "print(r['rois'])"
      ],
      "metadata": {
        "id": "iy0ZAz2oRk85"
      },
      "execution_count": null,
      "outputs": []
    },
    {
      "cell_type": "markdown",
      "source": [
        "# Test on a random image"
      ],
      "metadata": {
        "id": "TV1MOB0pPYIf"
      }
    },
    {
      "cell_type": "code",
      "source": [
        "new_image_path = 'IMAGE_PATH'\n",
        "image = mpimg.imread(new_image_path)\n",
        "\n",
        "results1 = model.detect([image], verbose=1)\n",
        "ax = get_ax(1)\n",
        "r1 = results1[0]\n",
        "visualize.display_instances(image, r1['rois'], r1['masks'], r1['class_ids'],\n",
        "dataset_val.class_names, r1['scores'], ax=ax, title=\"chicken\")"
      ],
      "metadata": {
        "id": "X0WcSxyOPops"
      },
      "execution_count": null,
      "outputs": []
    },
    {
      "cell_type": "markdown",
      "source": [
        "# Print each segment"
      ],
      "metadata": {
        "id": "OaX5RRDoQH-u"
      }
    },
    {
      "cell_type": "code",
      "source": [
        "import skimage.io\n",
        "\n",
        "for i in range(mask.shape[i]):\n",
        "    temp = skimage.io.imread('IMAGE_PATH')\n",
        "    for j in range(temp.shape[2]):\n",
        "        temp[:,:,j] = temp[:,:,j] * mask[:,:,i]\n",
        "    plt.figure(figsize=(8,8))\n",
        "    plt.imshow(temp)"
      ],
      "metadata": {
        "id": "sqlnekNgQLEH"
      },
      "execution_count": null,
      "outputs": []
    },
    {
      "cell_type": "markdown",
      "source": [
        "# Calculate weight and height "
      ],
      "metadata": {
        "id": "ZfOcpDiWQ4IX"
      }
    },
    {
      "cell_type": "code",
      "source": [
        "import cv2\n",
        "from google.colab.patches import cv2_imshow\n",
        "# Load image, grayscale, Gaussian blur, Otsu's threshold\n",
        "image = cv2.imread(\"IMAGE_PATH\")\n",
        "gray = cv2.cvtColor(image, cv2.COLOR_BGR2GRAY)\n",
        "blur = cv2.GaussianBlur(gray, (5,5), 0)\n",
        "thresh = cv2.threshold(blur, 0, 255, cv2.THRESH_BINARY_INV + cv2.THRESH_OTSU)[1]\n",
        "\n",
        "# Find bounding box\n",
        "x,y,w,h = cv2.boundingRect(thresh)\n",
        "cv2.rectangle(thresh, (x, y), (x + w, y + h), (36,255,12), 2)\n",
        "cv2.putText(thresh, \"w={},h={}\".format(w,h), (x,y - 10), cv2.FONT_HERSHEY_SIMPLEX, 0.7, (36,255,12), 2)\n",
        "\n",
        "cv2_imshow(thresh)\n",
        "cv2_imshow(image)\n",
        "print(x)\n",
        "print(y)\n",
        "print(w)\n",
        "print(h)\n",
        "cv2.waitKey()"
      ],
      "metadata": {
        "id": "nnTDN5eoQ4o7"
      },
      "execution_count": null,
      "outputs": []
    },
    {
      "cell_type": "markdown",
      "source": [
        "## Model evaluation"
      ],
      "metadata": {
        "id": "49QtxcnvQqK0"
      }
    },
    {
      "cell_type": "code",
      "source": [
        "# Compute VOC-Style mAP @ IoU=0.5\n",
        "# Running on 10 images. Increase for better accuracy.\n",
        "image_ids = np.random.choice(dataset_val.image_ids, 10)\n",
        "APs = []\n",
        "for image_id in image_ids:\n",
        "    # Load image and ground truth data\n",
        "    image, image_meta, gt_class_id, gt_bbox, gt_mask =\\\n",
        "        modellib.load_image_gt(dataset_val, inference_config,\n",
        "                               image_id, use_mini_mask=False)\n",
        "    molded_images = np.expand_dims(modellib.mold_image(image, inference_config), 0)\n",
        "    # Run object detection\n",
        "    results = model.detect([image], verbose=0)\n",
        "    r = results[0]\n",
        "    # Compute AP\n",
        "    AP, precisions, recalls, overlaps =\\\n",
        "        utils.compute_ap(gt_bbox, gt_class_id, gt_mask,\n",
        "                         r[\"rois\"], r[\"class_ids\"], r[\"scores\"], r['masks'])\n",
        "    APs.append(AP)\n",
        "    \n",
        "print(\"mAP: \", np.mean(APs))"
      ],
      "metadata": {
        "id": "VPiv2D19Qq0b"
      },
      "execution_count": null,
      "outputs": []
    }
  ]
}